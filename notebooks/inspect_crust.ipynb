{
 "cells": [
  {
   "cell_type": "code",
   "execution_count": 1,
   "metadata": {},
   "outputs": [],
   "source": [
    "import numpy as np\n",
    "import pandas as pd\n",
    "import matplotlib.pyplot as plt\n",
    "\n",
    "import pqcd\n",
    "\n",
    "from scipy.integrate import cumulative_trapezoid\n",
    "from pqcd.utils import (\n",
    "    to_GeV_per_cubic_femtometre, \n",
    "    to_nucleons_per_cubic_femtometre,\n",
    "    nsat\n",
    "    )"
   ]
  },
  {
   "cell_type": "code",
   "execution_count": 2,
   "metadata": {},
   "outputs": [],
   "source": [
    "crust = pd.read_csv('../make-agnostic-processes/ingo-bps-with-cs2c2.csv')"
   ]
  },
  {
   "cell_type": "code",
   "execution_count": 3,
   "metadata": {},
   "outputs": [
    {
     "data": {
      "text/html": [
       "<div>\n",
       "<style scoped>\n",
       "    .dataframe tbody tr th:only-of-type {\n",
       "        vertical-align: middle;\n",
       "    }\n",
       "\n",
       "    .dataframe tbody tr th {\n",
       "        vertical-align: top;\n",
       "    }\n",
       "\n",
       "    .dataframe thead th {\n",
       "        text-align: right;\n",
       "    }\n",
       "</style>\n",
       "<table border=\"1\" class=\"dataframe\">\n",
       "  <thead>\n",
       "    <tr style=\"text-align: right;\">\n",
       "      <th></th>\n",
       "      <th>baryon_density</th>\n",
       "      <th>pressurec2</th>\n",
       "      <th>energy_densityc2</th>\n",
       "      <th>cs2c2</th>\n",
       "    </tr>\n",
       "  </thead>\n",
       "  <tbody>\n",
       "    <tr>\n",
       "      <th>0</th>\n",
       "      <td>6.690488e+00</td>\n",
       "      <td>1.123602e-13</td>\n",
       "      <td>7.757621e+00</td>\n",
       "      <td>1.694600e-11</td>\n",
       "    </tr>\n",
       "    <tr>\n",
       "      <th>1</th>\n",
       "      <td>7.911502e+00</td>\n",
       "      <td>1.123602e-12</td>\n",
       "      <td>7.817296e+00</td>\n",
       "      <td>1.355688e-10</td>\n",
       "    </tr>\n",
       "    <tr>\n",
       "      <th>2</th>\n",
       "      <td>7.961680e+00</td>\n",
       "      <td>1.123602e-11</td>\n",
       "      <td>7.857078e+00</td>\n",
       "      <td>3.304493e-10</td>\n",
       "    </tr>\n",
       "    <tr>\n",
       "      <th>3</th>\n",
       "      <td>8.212574e+00</td>\n",
       "      <td>1.123602e-10</td>\n",
       "      <td>8.105720e+00</td>\n",
       "      <td>3.831341e-10</td>\n",
       "    </tr>\n",
       "    <tr>\n",
       "      <th>4</th>\n",
       "      <td>1.169163e+01</td>\n",
       "      <td>1.346106e-09</td>\n",
       "      <td>1.153698e+01</td>\n",
       "      <td>1.670024e-09</td>\n",
       "    </tr>\n",
       "    <tr>\n",
       "      <th>...</th>\n",
       "      <td>...</td>\n",
       "      <td>...</td>\n",
       "      <td>...</td>\n",
       "      <td>...</td>\n",
       "    </tr>\n",
       "    <tr>\n",
       "      <th>73</th>\n",
       "      <td>1.070478e+14</td>\n",
       "      <td>4.951233e+11</td>\n",
       "      <td>1.079919e+14</td>\n",
       "      <td>7.578690e-03</td>\n",
       "    </tr>\n",
       "    <tr>\n",
       "      <th>74</th>\n",
       "      <td>1.137383e+14</td>\n",
       "      <td>5.478749e+11</td>\n",
       "      <td>1.147740e+14</td>\n",
       "      <td>7.983989e-03</td>\n",
       "    </tr>\n",
       "    <tr>\n",
       "      <th>75</th>\n",
       "      <td>1.204288e+14</td>\n",
       "      <td>6.034447e+11</td>\n",
       "      <td>1.215592e+14</td>\n",
       "      <td>8.402345e-03</td>\n",
       "    </tr>\n",
       "    <tr>\n",
       "      <th>76</th>\n",
       "      <td>1.271193e+14</td>\n",
       "      <td>6.619255e+11</td>\n",
       "      <td>1.283475e+14</td>\n",
       "      <td>8.781323e-03</td>\n",
       "    </tr>\n",
       "    <tr>\n",
       "      <th>77</th>\n",
       "      <td>1.338098e+14</td>\n",
       "      <td>7.226948e+11</td>\n",
       "      <td>1.351391e+14</td>\n",
       "      <td>8.947797e-03</td>\n",
       "    </tr>\n",
       "  </tbody>\n",
       "</table>\n",
       "<p>78 rows × 4 columns</p>\n",
       "</div>"
      ],
      "text/plain": [
       "    baryon_density    pressurec2  energy_densityc2         cs2c2\n",
       "0     6.690488e+00  1.123602e-13      7.757621e+00  1.694600e-11\n",
       "1     7.911502e+00  1.123602e-12      7.817296e+00  1.355688e-10\n",
       "2     7.961680e+00  1.123602e-11      7.857078e+00  3.304493e-10\n",
       "3     8.212574e+00  1.123602e-10      8.105720e+00  3.831341e-10\n",
       "4     1.169163e+01  1.346106e-09      1.153698e+01  1.670024e-09\n",
       "..             ...           ...               ...           ...\n",
       "73    1.070478e+14  4.951233e+11      1.079919e+14  7.578690e-03\n",
       "74    1.137383e+14  5.478749e+11      1.147740e+14  7.983989e-03\n",
       "75    1.204288e+14  6.034447e+11      1.215592e+14  8.402345e-03\n",
       "76    1.271193e+14  6.619255e+11      1.283475e+14  8.781323e-03\n",
       "77    1.338098e+14  7.226948e+11      1.351391e+14  8.947797e-03\n",
       "\n",
       "[78 rows x 4 columns]"
      ]
     },
     "execution_count": 3,
     "metadata": {},
     "output_type": "execute_result"
    }
   ],
   "source": [
    "crust"
   ]
  },
  {
   "cell_type": "code",
   "execution_count": 4,
   "metadata": {},
   "outputs": [],
   "source": [
    "pressurec2 = crust['pressurec2'].values\n",
    "energy_densityc2 = crust['energy_densityc2'].values\n",
    "baryon_density = crust['baryon_density'].values"
   ]
  },
  {
   "cell_type": "code",
   "execution_count": 5,
   "metadata": {},
   "outputs": [],
   "source": [
    "I = cumulative_trapezoid(\n",
    "    pressurec2/(energy_densityc2 + pressurec2), \n",
    "    x=np.log(energy_densityc2), \n",
    "    initial=0\n",
    "    )"
   ]
  },
  {
   "cell_type": "code",
   "execution_count": 6,
   "metadata": {},
   "outputs": [],
   "source": [
    "baryon_density_modified = energy_densityc2*np.exp(-I)"
   ]
  },
  {
   "cell_type": "code",
   "execution_count": 7,
   "metadata": {},
   "outputs": [],
   "source": [
    "cs2c2_modified = np.gradient(pressurec2, energy_densityc2)"
   ]
  },
  {
   "cell_type": "code",
   "execution_count": 8,
   "metadata": {},
   "outputs": [],
   "source": [
    "crust_modified = pd.DataFrame({\n",
    "    'baryon_density': baryon_density_modified,\n",
    "    'pressurec2': pressurec2,\n",
    "    'energy_densityc2': energy_densityc2,\n",
    "    'cs2c2': cs2c2_modified\n",
    "    })"
   ]
  },
  {
   "cell_type": "code",
   "execution_count": 9,
   "metadata": {},
   "outputs": [
    {
     "data": {
      "text/html": [
       "<div>\n",
       "<style scoped>\n",
       "    .dataframe tbody tr th:only-of-type {\n",
       "        vertical-align: middle;\n",
       "    }\n",
       "\n",
       "    .dataframe tbody tr th {\n",
       "        vertical-align: top;\n",
       "    }\n",
       "\n",
       "    .dataframe thead th {\n",
       "        text-align: right;\n",
       "    }\n",
       "</style>\n",
       "<table border=\"1\" class=\"dataframe\">\n",
       "  <thead>\n",
       "    <tr style=\"text-align: right;\">\n",
       "      <th></th>\n",
       "      <th>baryon_density</th>\n",
       "      <th>pressurec2</th>\n",
       "      <th>energy_densityc2</th>\n",
       "      <th>cs2c2</th>\n",
       "    </tr>\n",
       "  </thead>\n",
       "  <tbody>\n",
       "    <tr>\n",
       "      <th>0</th>\n",
       "      <td>7.757621e+00</td>\n",
       "      <td>1.123602e-13</td>\n",
       "      <td>7.757621e+00</td>\n",
       "      <td>1.694600e-11</td>\n",
       "    </tr>\n",
       "    <tr>\n",
       "      <th>1</th>\n",
       "      <td>7.817296e+00</td>\n",
       "      <td>1.123602e-12</td>\n",
       "      <td>7.817296e+00</td>\n",
       "      <td>1.592937e-10</td>\n",
       "    </tr>\n",
       "    <tr>\n",
       "      <th>2</th>\n",
       "      <td>7.857078e+00</td>\n",
       "      <td>1.123602e-11</td>\n",
       "      <td>7.857078e+00</td>\n",
       "      <td>2.752282e-10</td>\n",
       "    </tr>\n",
       "    <tr>\n",
       "      <th>3</th>\n",
       "      <td>8.105720e+00</td>\n",
       "      <td>1.123602e-10</td>\n",
       "      <td>8.105720e+00</td>\n",
       "      <td>4.035215e-10</td>\n",
       "    </tr>\n",
       "    <tr>\n",
       "      <th>4</th>\n",
       "      <td>1.153698e+01</td>\n",
       "      <td>1.346106e-09</td>\n",
       "      <td>1.153698e+01</td>\n",
       "      <td>1.455585e-09</td>\n",
       "    </tr>\n",
       "    <tr>\n",
       "      <th>...</th>\n",
       "      <td>...</td>\n",
       "      <td>...</td>\n",
       "      <td>...</td>\n",
       "      <td>...</td>\n",
       "    </tr>\n",
       "    <tr>\n",
       "      <th>73</th>\n",
       "      <td>1.060385e+14</td>\n",
       "      <td>4.951233e+11</td>\n",
       "      <td>1.079919e+14</td>\n",
       "      <td>7.578643e-03</td>\n",
       "    </tr>\n",
       "    <tr>\n",
       "      <th>74</th>\n",
       "      <td>1.126659e+14</td>\n",
       "      <td>5.478749e+11</td>\n",
       "      <td>1.147740e+14</td>\n",
       "      <td>7.983941e-03</td>\n",
       "    </tr>\n",
       "    <tr>\n",
       "      <th>75</th>\n",
       "      <td>1.192933e+14</td>\n",
       "      <td>6.034447e+11</td>\n",
       "      <td>1.215592e+14</td>\n",
       "      <td>8.402295e-03</td>\n",
       "    </tr>\n",
       "    <tr>\n",
       "      <th>76</th>\n",
       "      <td>1.259207e+14</td>\n",
       "      <td>6.619255e+11</td>\n",
       "      <td>1.283475e+14</td>\n",
       "      <td>8.781285e-03</td>\n",
       "    </tr>\n",
       "    <tr>\n",
       "      <th>77</th>\n",
       "      <td>1.325481e+14</td>\n",
       "      <td>7.226948e+11</td>\n",
       "      <td>1.351391e+14</td>\n",
       "      <td>8.947797e-03</td>\n",
       "    </tr>\n",
       "  </tbody>\n",
       "</table>\n",
       "<p>78 rows × 4 columns</p>\n",
       "</div>"
      ],
      "text/plain": [
       "    baryon_density    pressurec2  energy_densityc2         cs2c2\n",
       "0     7.757621e+00  1.123602e-13      7.757621e+00  1.694600e-11\n",
       "1     7.817296e+00  1.123602e-12      7.817296e+00  1.592937e-10\n",
       "2     7.857078e+00  1.123602e-11      7.857078e+00  2.752282e-10\n",
       "3     8.105720e+00  1.123602e-10      8.105720e+00  4.035215e-10\n",
       "4     1.153698e+01  1.346106e-09      1.153698e+01  1.455585e-09\n",
       "..             ...           ...               ...           ...\n",
       "73    1.060385e+14  4.951233e+11      1.079919e+14  7.578643e-03\n",
       "74    1.126659e+14  5.478749e+11      1.147740e+14  7.983941e-03\n",
       "75    1.192933e+14  6.034447e+11      1.215592e+14  8.402295e-03\n",
       "76    1.259207e+14  6.619255e+11      1.283475e+14  8.781285e-03\n",
       "77    1.325481e+14  7.226948e+11      1.351391e+14  8.947797e-03\n",
       "\n",
       "[78 rows x 4 columns]"
      ]
     },
     "execution_count": 9,
     "metadata": {},
     "output_type": "execute_result"
    }
   ],
   "source": [
    "crust_modified"
   ]
  },
  {
   "cell_type": "code",
   "execution_count": 10,
   "metadata": {},
   "outputs": [],
   "source": [
    "crust_modified.to_csv(\n",
    "    '../make-agnostic-processes/ingo-bps-with-cs2c2-modified.csv', \n",
    "    index=False, \n",
    "    float_format='%.18e'\n",
    "    )"
   ]
  },
  {
   "cell_type": "code",
   "execution_count": 11,
   "metadata": {},
   "outputs": [],
   "source": [
    "pressure = to_GeV_per_cubic_femtometre(crust_modified.pressurec2)\n",
    "energy_density = to_GeV_per_cubic_femtometre(crust_modified.energy_densityc2)\n",
    "number_density = to_nucleons_per_cubic_femtometre(crust_modified.baryon_density)\n",
    "\n",
    "chemical_potential = (energy_density+pressure)/number_density"
   ]
  },
  {
   "cell_type": "code",
   "execution_count": 12,
   "metadata": {},
   "outputs": [
    {
     "data": {
      "image/png": "[encoded data removed]",
      "text/plain": [
       "<Figure size 640x480 with 1 Axes>"
      ]
     },
     "metadata": {},
     "output_type": "display_data"
    }
   ],
   "source": [
    "fig, ax = plt.subplots()\n",
    "_ = ax.plot(np.diff(chemical_potential))"
   ]
  }
 ],
 "metadata": {
  "kernelspec": {
   "display_name": ".venv",
   "language": "python",
   "name": "python3"
  },
  "language_info": {
   "codemirror_mode": {
    "name": "ipython",
    "version": 3
   },
   "file_extension": ".py",
   "mimetype": "text/x-python",
   "name": "python",
   "nbconvert_exporter": "python",
   "pygments_lexer": "ipython3",
   "version": "3.11.5"
  }
 },
 "nbformat": 4,
 "nbformat_minor": 2
}
