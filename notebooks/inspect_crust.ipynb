{
 "cells": [
  {
   "cell_type": "code",
   "execution_count": 8,
   "metadata": {},
   "outputs": [],
   "source": [
    "import numpy as np\n",
    "import pandas as pd\n",
    "import matplotlib.pyplot as plt\n",
    "\n",
    "import pqcd\n",
    "\n",
    "from pqcd.utils import (\n",
    "    to_GeV_per_cubic_femtometre, \n",
    "    to_nucleons_per_cubic_femtometre,\n",
    "    nsat\n",
    "    )"
   ]
  },
  {
   "cell_type": "code",
   "execution_count": 2,
   "metadata": {},
   "outputs": [],
   "source": [
    "crust = pd.read_csv('../make-agnostic-processes/ingo-bps-with-cs2c2.csv')"
   ]
  },
  {
   "cell_type": "code",
   "execution_count": 5,
   "metadata": {},
   "outputs": [
    {
     "data": {
      "text/html": [
       "<div>\n",
       "<style scoped>\n",
       "    .dataframe tbody tr th:only-of-type {\n",
       "        vertical-align: middle;\n",
       "    }\n",
       "\n",
       "    .dataframe tbody tr th {\n",
       "        vertical-align: top;\n",
       "    }\n",
       "\n",
       "    .dataframe thead th {\n",
       "        text-align: right;\n",
       "    }\n",
       "</style>\n",
       "<table border=\"1\" class=\"dataframe\">\n",
       "  <thead>\n",
       "    <tr style=\"text-align: right;\">\n",
       "      <th></th>\n",
       "      <th>baryon_density</th>\n",
       "      <th>pressurec2</th>\n",
       "      <th>energy_densityc2</th>\n",
       "      <th>cs2c2</th>\n",
       "    </tr>\n",
       "  </thead>\n",
       "  <tbody>\n",
       "    <tr>\n",
       "      <th>0</th>\n",
       "      <td>6.690488e+00</td>\n",
       "      <td>1.123602e-13</td>\n",
       "      <td>7.757621e+00</td>\n",
       "      <td>1.694600e-11</td>\n",
       "    </tr>\n",
       "    <tr>\n",
       "      <th>1</th>\n",
       "      <td>7.911502e+00</td>\n",
       "      <td>1.123602e-12</td>\n",
       "      <td>7.817296e+00</td>\n",
       "      <td>1.355688e-10</td>\n",
       "    </tr>\n",
       "    <tr>\n",
       "      <th>2</th>\n",
       "      <td>7.961680e+00</td>\n",
       "      <td>1.123602e-11</td>\n",
       "      <td>7.857078e+00</td>\n",
       "      <td>3.304493e-10</td>\n",
       "    </tr>\n",
       "    <tr>\n",
       "      <th>3</th>\n",
       "      <td>8.212574e+00</td>\n",
       "      <td>1.123602e-10</td>\n",
       "      <td>8.105720e+00</td>\n",
       "      <td>3.831341e-10</td>\n",
       "    </tr>\n",
       "    <tr>\n",
       "      <th>4</th>\n",
       "      <td>1.169163e+01</td>\n",
       "      <td>1.346106e-09</td>\n",
       "      <td>1.153698e+01</td>\n",
       "      <td>1.670024e-09</td>\n",
       "    </tr>\n",
       "    <tr>\n",
       "      <th>...</th>\n",
       "      <td>...</td>\n",
       "      <td>...</td>\n",
       "      <td>...</td>\n",
       "      <td>...</td>\n",
       "    </tr>\n",
       "    <tr>\n",
       "      <th>73</th>\n",
       "      <td>1.070478e+14</td>\n",
       "      <td>4.951233e+11</td>\n",
       "      <td>1.079919e+14</td>\n",
       "      <td>7.578690e-03</td>\n",
       "    </tr>\n",
       "    <tr>\n",
       "      <th>74</th>\n",
       "      <td>1.137383e+14</td>\n",
       "      <td>5.478749e+11</td>\n",
       "      <td>1.147740e+14</td>\n",
       "      <td>7.983989e-03</td>\n",
       "    </tr>\n",
       "    <tr>\n",
       "      <th>75</th>\n",
       "      <td>1.204288e+14</td>\n",
       "      <td>6.034447e+11</td>\n",
       "      <td>1.215592e+14</td>\n",
       "      <td>8.402345e-03</td>\n",
       "    </tr>\n",
       "    <tr>\n",
       "      <th>76</th>\n",
       "      <td>1.271193e+14</td>\n",
       "      <td>6.619255e+11</td>\n",
       "      <td>1.283475e+14</td>\n",
       "      <td>8.781323e-03</td>\n",
       "    </tr>\n",
       "    <tr>\n",
       "      <th>77</th>\n",
       "      <td>1.338098e+14</td>\n",
       "      <td>7.226948e+11</td>\n",
       "      <td>1.351391e+14</td>\n",
       "      <td>8.947797e-03</td>\n",
       "    </tr>\n",
       "  </tbody>\n",
       "</table>\n",
       "<p>78 rows × 4 columns</p>\n",
       "</div>"
      ],
      "text/plain": [
       "    baryon_density    pressurec2  energy_densityc2         cs2c2\n",
       "0     6.690488e+00  1.123602e-13      7.757621e+00  1.694600e-11\n",
       "1     7.911502e+00  1.123602e-12      7.817296e+00  1.355688e-10\n",
       "2     7.961680e+00  1.123602e-11      7.857078e+00  3.304493e-10\n",
       "3     8.212574e+00  1.123602e-10      8.105720e+00  3.831341e-10\n",
       "4     1.169163e+01  1.346106e-09      1.153698e+01  1.670024e-09\n",
       "..             ...           ...               ...           ...\n",
       "73    1.070478e+14  4.951233e+11      1.079919e+14  7.578690e-03\n",
       "74    1.137383e+14  5.478749e+11      1.147740e+14  7.983989e-03\n",
       "75    1.204288e+14  6.034447e+11      1.215592e+14  8.402345e-03\n",
       "76    1.271193e+14  6.619255e+11      1.283475e+14  8.781323e-03\n",
       "77    1.338098e+14  7.226948e+11      1.351391e+14  8.947797e-03\n",
       "\n",
       "[78 rows x 4 columns]"
      ]
     },
     "execution_count": 5,
     "metadata": {},
     "output_type": "execute_result"
    }
   ],
   "source": [
    "crust"
   ]
  },
  {
   "cell_type": "code",
   "execution_count": 7,
   "metadata": {},
   "outputs": [],
   "source": [
    "pressure = to_GeV_per_cubic_femtometre(crust['pressurec2'].values)\n",
    "energy_density = to_GeV_per_cubic_femtometre(crust['energy_densityc2'].values)\n",
    "baryon_density = to_nucleons_per_cubic_femtometre(crust['baryon_density'].values)"
   ]
  },
  {
   "cell_type": "code",
   "execution_count": 10,
   "metadata": {},
   "outputs": [],
   "source": [
    "chemical_potential = (energy_density+pressure)/baryon_density"
   ]
  },
  {
   "cell_type": "code",
   "execution_count": 11,
   "metadata": {},
   "outputs": [
    {
     "data": {
      "text/plain": [
       "array([4.02910588e-15, 4.76441780e-15, 4.79463588e-15, 4.94572757e-15,\n",
       "       7.04086256e-15, 9.97203698e-15, 2.73979198e-14, 1.27924111e-13,\n",
       "       6.98042611e-13, 6.34080547e-12, 1.59250400e-11, 4.00090229e-11,\n",
       "       1.00485899e-10, 2.52423496e-10, 6.33979785e-10, 1.59250409e-09,\n",
       "       4.00090219e-09, 5.03638230e-09, 1.00485896e-08, 2.00448016e-08,\n",
       "       4.00090210e-08, 7.98165902e-08, 1.59250403e-07, 2.00448016e-07,\n",
       "       3.17795714e-07, 5.03638232e-07, 6.33979814e-07, 7.98165859e-07,\n",
       "       1.00485896e-06, 1.59250408e-06, 2.52423493e-06, 4.00090195e-06,\n",
       "       5.03638220e-06, 6.33979791e-06, 7.98165859e-06, 1.00485900e-05,\n",
       "       1.26513924e-05, 1.59250401e-05, 2.00448023e-05, 2.52423489e-05,\n",
       "       3.17795726e-05, 4.00090195e-05, 5.03638220e-05, 6.33979828e-05,\n",
       "       7.98165896e-05, 1.00485900e-04, 1.11304047e-04, 1.26513920e-04,\n",
       "       1.59250405e-04, 2.00448019e-04, 2.59071515e-04, 2.68942813e-04,\n",
       "       3.14874617e-04, 3.97974943e-04, 4.79362856e-04, 5.85429084e-04,\n",
       "       7.19497606e-04, 8.84993100e-04, 4.02910588e-03, 8.05821174e-03,\n",
       "       1.20873176e-02, 1.61164235e-02, 2.01455293e-02, 2.41746352e-02,\n",
       "       2.82037411e-02, 3.22328469e-02, 3.62619528e-02, 4.02910587e-02,\n",
       "       4.43201645e-02, 4.83492704e-02, 5.23783763e-02, 5.64074821e-02,\n",
       "       6.04365880e-02, 6.44656939e-02, 6.84947997e-02, 7.25239056e-02,\n",
       "       7.65530115e-02, 8.05821173e-02])"
      ]
     },
     "execution_count": 11,
     "metadata": {},
     "output_type": "execute_result"
    }
   ],
   "source": [
    "baryon_density"
   ]
  },
  {
   "cell_type": "code",
   "execution_count": 13,
   "metadata": {},
   "outputs": [
    {
     "data": {
      "text/plain": [
       "array([6.30294481e-26, 6.30294468e-25, 6.30294468e-24, 6.30294503e-23,\n",
       "       7.55110343e-22, 8.73677595e-21, 1.06090146e-19, 3.63200129e-18,\n",
       "       1.18567273e-16, 6.08078460e-15, 3.10031197e-14, 1.51707179e-13,\n",
       "       7.18288218e-13, 3.28631946e-12, 1.44655186e-11, 6.08770284e-11,\n",
       "       2.44063796e-10, 3.28196776e-10, 8.95525439e-10, 2.39198803e-09,\n",
       "       6.27806181e-09, 1.62508341e-08, 4.16625674e-08, 5.45302303e-08,\n",
       "       1.01659212e-07, 1.89031444e-07, 2.57676813e-07, 3.14271324e-07,\n",
       "       4.28107514e-07, 7.93795926e-07, 1.47031886e-06, 2.72215977e-06,\n",
       "       3.53336258e-06, 4.80651552e-06, 6.54016881e-06, 8.89276862e-06,\n",
       "       1.20943966e-05, 1.56203948e-05, 2.12430233e-05, 2.88808266e-05,\n",
       "       3.71256358e-05, 5.04797952e-05, 6.86464935e-05, 9.32961246e-05,\n",
       "       1.26868985e-04, 1.62073181e-04, 1.80473077e-04, 2.05311280e-04,\n",
       "       2.79145234e-04, 3.62954640e-04, 4.87078690e-04, 4.92378852e-04,\n",
       "       5.21211725e-04, 5.67763783e-04, 6.13512535e-04, 6.75853493e-04,\n",
       "       7.60098063e-04, 8.73052772e-04, 5.79883282e-03, 1.16569459e-02,\n",
       "       2.08501067e-02, 3.21603521e-02, 4.51451283e-02, 5.96074526e-02,\n",
       "       7.54428631e-02, 9.25972427e-02, 1.11047769e-01, 1.30792471e-01,\n",
       "       1.51843912e-01, 1.74225125e-01, 1.97966892e-01, 2.23105867e-01,\n",
       "       2.49683248e-01, 2.77743820e-01, 3.07335261e-01, 3.38507633e-01,\n",
       "       3.71312998e-01, 4.05402073e-01])"
      ]
     },
     "execution_count": 13,
     "metadata": {},
     "output_type": "execute_result"
    }
   ],
   "source": [
    "pressure*1000"
   ]
  },
  {
   "cell_type": "code",
   "execution_count": 18,
   "metadata": {},
   "outputs": [
    {
     "data": {
      "text/plain": [
       "[<matplotlib.lines.Line2D at 0x16bbf0750>]"
      ]
     },
     "execution_count": 18,
     "metadata": {},
     "output_type": "execute_result"
    },
    {
     "data": {
      "image/png": "[encoded data removed]",
      "text/plain": [
       "<Figure size 640x480 with 1 Axes>"
      ]
     },
     "metadata": {},
     "output_type": "display_data"
    }
   ],
   "source": [
    "plt.plot(np.diff(chemical_potential))"
   ]
  },
  {
   "cell_type": "code",
   "execution_count": 19,
   "metadata": {},
   "outputs": [
    {
     "data": {
      "text/plain": [
       "[<matplotlib.lines.Line2D at 0x16b998690>]"
      ]
     },
     "execution_count": 19,
     "metadata": {},
     "output_type": "execute_result"
    },
    {
     "data": {
      "image/png": "[encoded data removed]",
      "text/plain": [
       "<Figure size 640x480 with 1 Axes>"
      ]
     },
     "metadata": {},
     "output_type": "display_data"
    }
   ],
   "source": [
    "plt.plot(chemical_potential)"
   ]
  }
 ],
 "metadata": {
  "kernelspec": {
   "display_name": ".venv",
   "language": "python",
   "name": "python3"
  },
  "language_info": {
   "codemirror_mode": {
    "name": "ipython",
    "version": 3
   },
   "file_extension": ".py",
   "mimetype": "text/x-python",
   "name": "python",
   "nbconvert_exporter": "python",
   "pygments_lexer": "ipython3",
   "version": "3.11.5"
  }
 },
 "nbformat": 4,
 "nbformat_minor": 2
}
